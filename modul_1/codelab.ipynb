{
 "cells": [
  {
   "cell_type": "markdown",
   "metadata": {},
   "source": [
    "# codelab 1\n",
    "a. Buatlah 12 data tuple yang berisi masing-masing 4 data int, float, dan string dengan urutan acak.\n",
    "\n",
    "b. Ubahlah data tuple tersebut menjadi list.\n",
    "\n",
    "c. Tambahkan 2 data baru di index sesuai dengan NIM akhir kalian (jika NIM akhir adalah 0, maka index ke-10).\n",
    "\n",
    "d. Hapus tipe data float pada list.\n",
    "\n",
    "e. Urutkan elemen pada list secara descending."
   ]
  },
  {
   "cell_type": "code",
   "execution_count": 1,
   "metadata": {},
   "outputs": [
    {
     "name": "stdout",
     "output_type": "stream",
     "text": [
      "[7, 5, 3, 1, 'susu', 'sapi', 'kelinci', 'duduk', 'burung', 'bola']\n"
     ]
    }
   ],
   "source": [
    "# Codelab 1\n",
    "# a. Buat 12 data tuple dengan masing-masing 4 data int, float, dan string\n",
    "\n",
    "tuplr = (1, 3, 5, 7, 1.25, 2.25, 3.35, 4.55, \"susu\", \"sapi\", \"bola\", \"duduk\")\n",
    "\n",
    "# b. Ubah tuple menjadi list\n",
    "list_data = list(tuplr)\n",
    "\n",
    "# c. Tambahkan 2 data baru di index sesuai dengan NIM akhir (karena 3 digit terakhir NIM adalah 298, maka index ke-8)\n",
    "list_data.insert(8, \"kelinci\")\n",
    "list_data.insert(9, \"burung\")\n",
    "\n",
    "# d. Hapus tipe data float pada list\n",
    "list_data = [item for item in list_data if not isinstance(item, float)]\n",
    "\n",
    "# e. Urutkan elemen pada list secara descending\n",
    "# Pisahkan data int dan string agar bisa diurutkan masing-masing\n",
    "int_data = sorted([item for item in list_data if isinstance(item, int)], reverse=True)\n",
    "str_data = sorted([item for item in list_data if isinstance(item, str)], reverse=True)\n",
    "\n",
    "# Gabungkan hasil\n",
    "sorted_list = int_data + str_data\n",
    "\n",
    "# Output hasil\n",
    "print(sorted_list)\n"
   ]
  },
  {
   "cell_type": "markdown",
   "metadata": {},
   "source": [
    "# Codelab 2\n",
    "\n",
    "a. Buatlah array 2D berdasarkan 6 digit terakhir NIM kalian.\n",
    "\n",
    "b. Lakukan operasi pertambahan, pengurangan dan perkalian pada matriks yang kalian buat.\n",
    "\n",
    "c. Ubahlah matriks tersebut menjadi bentuk 1D.\n",
    "\n",
    "d. Lakukan slicing pada matriks."
   ]
  },
  {
   "cell_type": "code",
   "execution_count": 3,
   "metadata": {},
   "outputs": [
    {
     "name": "stdout",
     "output_type": "stream",
     "text": [
      "Array 2D:\n",
      " [[3 1 1]\n",
      " [2 9 8]]\n",
      "\n",
      "Hasil Pertambahan:\n",
      " [[ 6  2  2]\n",
      " [ 4 18 16]]\n",
      "\n",
      "Hasil Pengurangan:\n",
      " [[0 0 0]\n",
      " [0 0 0]]\n",
      "\n",
      "Hasil Perkalian:\n",
      " [[ 9  1  1]\n",
      " [ 4 81 64]]\n",
      "\n",
      "Array 1D:\n",
      " [3 1 1 2 9 8]\n",
      "\n",
      "Hasil Slicing:\n",
      " [[1 1]\n",
      " [9 8]]\n"
     ]
    }
   ],
   "source": [
    "import numpy as np\n",
    "\n",
    "# a. Buat array 2D berdasarkan 6 digit terakhir NIM (311298)\n",
    "array_2d = np.array([[3, 1, 1], [2, 9, 8]])\n",
    "print(\"Array 2D:\\n\", array_2d)\n",
    "\n",
    "# b. Lakukan operasi pertambahan, pengurangan, dan perkalian pada matriks\n",
    "matrix_add = array_2d + array_2d\n",
    "matrix_sub = array_2d - array_2d\n",
    "matrix_mul = array_2d * array_2d\n",
    "\n",
    "print(\"\\nHasil Pertambahan:\\n\", matrix_add)\n",
    "print(\"\\nHasil Pengurangan:\\n\", matrix_sub)\n",
    "print(\"\\nHasil Perkalian:\\n\", matrix_mul)\n",
    "\n",
    "# c. Ubah matriks menjadi bentuk 1D\n",
    "array_1d = array_2d.flatten()\n",
    "print(\"\\nArray 1D:\\n\", array_1d)\n",
    "\n",
    "# d. Lakukan slicing pada matriks\n",
    "sliced_array = array_2d[:, 1:]  # Mengambil semua baris, mulai dari kolom ke-1 hingga akhir\n",
    "print(\"\\nHasil Slicing:\\n\", sliced_array)\n"
   ]
  },
  {
   "cell_type": "markdown",
   "metadata": {},
   "source": [
    "# Codelab 3\n",
    "a. Buatlah sebuah series yang berisi dictionary yang memuat nama produk dan ID produk.\n",
    "\n",
    "b. Buatlah sebuah dataframe yang berisi dictionary yang memuat 4 kolom dan setiap kolom berisi 5 data. Tidak boleh ada kesamaan antar praktikan.\n",
    "\n",
    "c. Tambahkan 1 kolom baru.\n",
    "\n",
    "d. Urutkan dataframe, misalnya berdasarkan abjad jika kolom berupa Nama."
   ]
  },
  {
   "cell_type": "code",
   "execution_count": 2,
   "metadata": {},
   "outputs": [
    {
     "name": "stdout",
     "output_type": "stream",
     "text": [
      "Series Produk:\n",
      " swallo xxx         101\n",
      "swallo premium     102\n",
      "swallo zeus        103\n",
      "swallo dxd         104\n",
      "swallo brondong    105\n",
      "dtype: int64\n",
      "\n",
      "DataFrame Awal:\n",
      "         Nama  Usia      Kota     Pekerjaan\n",
      "0       Joko    23   Jakarta    Programmer\n",
      "1   Ambalabu    30     Ngawi    Kang sawer\n",
      "2    Ambacit    21   Jombang  Pengangguran\n",
      "3  Sigmatris    35     Medan       Manager\n",
      "4    Bambang    29  Semarang    Guru ngaji\n",
      "\n",
      "DataFrame dengan Kolom Gaji:\n",
      "         Nama  Usia      Kota     Pekerjaan      Gaji\n",
      "0       Joko    23   Jakarta    Programmer   7000000\n",
      "1   Ambalabu    30     Ngawi    Kang sawer   8000000\n",
      "2    Ambacit    21   Jombang  Pengangguran   6000000\n",
      "3  Sigmatris    35     Medan       Manager  10000000\n",
      "4    Bambang    29  Semarang    Guru ngaji   9000000\n",
      "\n",
      "DataFrame Terurut berdasarkan Nama:\n",
      "         Nama  Usia      Kota     Pekerjaan      Gaji\n",
      "2    Ambacit    21   Jombang  Pengangguran   6000000\n",
      "1   Ambalabu    30     Ngawi    Kang sawer   8000000\n",
      "4    Bambang    29  Semarang    Guru ngaji   9000000\n",
      "0       Joko    23   Jakarta    Programmer   7000000\n",
      "3  Sigmatris    35     Medan       Manager  10000000\n"
     ]
    }
   ],
   "source": [
    "import pandas as pd\n",
    "\n",
    "# a. Buat Series yang berisi dictionary dengan nama produk dan ID produk\n",
    "produk = {\"swallo xxx\": 101, \"swallo premium\": 102, \"swallo zeus\": 103, \"swallo dxd\": 104, \"swallo brondong\": 105}\n",
    "series_produk = pd.Series(produk)\n",
    "print(\"Series Produk:\\n\", series_produk)\n",
    "\n",
    "# b. Buat DataFrame dengan 4 kolom dan masing-masing 5 data\n",
    "data = {\n",
    "    \"Nama\": [\"Joko\", \"Ambalabu\", \"Ambacit\", \"Sigmatris\", \"Bambang\"],\n",
    "    \"Usia\": [23, 30, 21, 35, 29],\n",
    "    \"Kota\": [\"Jakarta\", \"Ngawi\", \"Jombang\", \"Medan\", \"Semarang\"],\n",
    "    \"Pekerjaan\": [\"Programmer\", \"Kang sawer\", \"Pengangguran\", \"Manager\", \"Guru ngaji\"]\n",
    "}\n",
    "df = pd.DataFrame(data)\n",
    "print(\"\\nDataFrame Awal:\\n\", df)\n",
    "\n",
    "# c. Tambahkan 1 kolom baru (misalnya Gaji)\n",
    "df[\"Gaji\"] = [7000000, 8000000, 6000000, 10000000, 9000000]\n",
    "print(\"\\nDataFrame dengan Kolom Gaji:\\n\", df)\n",
    "\n",
    "# d. Urutkan DataFrame berdasarkan Nama secara alfabetis\n",
    "df_sorted = df.sort_values(by=\"Nama\")\n",
    "print(\"\\nDataFrame Terurut berdasarkan Nama:\\n\", df_sorted)\n"
   ]
  }
 ],
 "metadata": {
  "kernelspec": {
   "display_name": "Python 3",
   "language": "python",
   "name": "python3"
  },
  "language_info": {
   "codemirror_mode": {
    "name": "ipython",
    "version": 3
   },
   "file_extension": ".py",
   "mimetype": "text/x-python",
   "name": "python",
   "nbconvert_exporter": "python",
   "pygments_lexer": "ipython3",
   "version": "3.12.0"
  }
 },
 "nbformat": 4,
 "nbformat_minor": 2
}
