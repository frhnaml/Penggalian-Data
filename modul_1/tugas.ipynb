{
 "cells": [
  {
   "cell_type": "markdown",
   "metadata": {},
   "source": [
    "# Tugas 1"
   ]
  },
  {
   "cell_type": "code",
   "execution_count": 19,
   "metadata": {},
   "outputs": [
    {
     "name": "stdout",
     "output_type": "stream",
     "text": [
      "List awal: []\n",
      "Setelah menambah 10 elemen acak: [31.13, 98.91, 20, 66, 35.08, 11, 94, 78, 1.65, 90.75]\n"
     ]
    }
   ],
   "source": [
    "import random\n",
    "\n",
    "# Contoh penggunaan\n",
    "my_list = []\n",
    "print(\"List awal:\", my_list)\n",
    "\n",
    "def add_random_elements(input_list):\n",
    "    \"\"\"1. Tambahkan 10 elemen numerik (int dan float) secara acak\"\"\"\n",
    "    for _ in range(10):\n",
    "        input_list.append(random.choice([random.randint(1, 100), round(random.uniform(1, 100), 2)]))\n",
    "    print(\"Setelah menambah 10 elemen acak:\", input_list)\n",
    "\n",
    "add_random_elements(my_list)"
   ]
  },
  {
   "cell_type": "code",
   "execution_count": 20,
   "metadata": {},
   "outputs": [
    {
     "name": "stdout",
     "output_type": "stream",
     "text": [
      "Indeks yang akan dihapus: [0, 2, 4, 6, 8]\n",
      "Menghapus elemen di indeks 8 dengan nilai 1.65\n",
      "Menghapus elemen di indeks 6 dengan nilai 94\n",
      "Menghapus elemen di indeks 4 dengan nilai 35.08\n",
      "Menghapus elemen di indeks 2 dengan nilai 20\n",
      "Menghapus elemen di indeks 0 dengan nilai 31.13\n",
      "Setelah menghapus elemen di indeks genap: [98.91, 66, 11, 78, 90.75]\n"
     ]
    }
   ],
   "source": [
    "def remove_elements_by_parity(input_list, nim=298):\n",
    "    \"\"\"Hapus elemen di indeks genap jika NIM genap, dan di indeks ganjil jika NIM ganjil\"\"\"\n",
    "    if nim % 2 == 0:  \n",
    "        indices_to_remove = [i for i in range(len(input_list)) if i % 2 == 0]\n",
    "    else:  \n",
    "        indices_to_remove = [i for i in range(len(input_list)) if i % 2 != 0]\n",
    "\n",
    "    print(f\"Indeks yang akan dihapus: {indices_to_remove}\")\n",
    "\n",
    "    \n",
    "    for index in sorted(indices_to_remove, reverse=True):\n",
    "        print(f\"Menghapus elemen di indeks {index} dengan nilai {input_list[index]}\")\n",
    "        del input_list[index]\n",
    "\n",
    "    print(f\"Setelah menghapus elemen di indeks {'genap' if nim % 2 == 0 else 'ganjil'}:\", input_list)\n",
    "\n",
    "\n",
    "\n",
    "remove_elements_by_parity(my_list)"
   ]
  },
  {
   "cell_type": "code",
   "execution_count": 21,
   "metadata": {},
   "outputs": [
    {
     "name": "stdout",
     "output_type": "stream",
     "text": [
      "Sebelum membalik urutan elemen: [98.91, 66, 11, 78, 90.75]\n",
      "Setelah membalik urutan elemen: [90.75, 78, 11, 66, 98.91]\n"
     ]
    }
   ],
   "source": [
    "def reverse_list(input_list):\n",
    "    \"\"\"3. Balik urutan elemen dalam list\"\"\"\n",
    "    print(\"Sebelum membalik urutan elemen:\", input_list)\n",
    "    input_list.reverse()\n",
    "    print(\"Setelah membalik urutan elemen:\", input_list)\n",
    "\n",
    "reverse_list(my_list)"
   ]
  },
  {
   "cell_type": "code",
   "execution_count": 22,
   "metadata": {},
   "outputs": [
    {
     "name": "stdout",
     "output_type": "stream",
     "text": [
      "Setelah menghapus elemen terbesar: [90.75, 78, 11, 66]\n"
     ]
    }
   ],
   "source": [
    "def remove_max_element(input_list):\n",
    "    \"\"\"4. Hapus elemen dengan nilai terbesar dari list\"\"\"\n",
    "    if input_list:\n",
    "        input_list.remove(max(input_list))\n",
    "    print(\"Setelah menghapus elemen terbesar:\", input_list)\n",
    "\n",
    "remove_max_element(my_list)"
   ]
  },
  {
   "cell_type": "code",
   "execution_count": 23,
   "metadata": {},
   "outputs": [
    {
     "name": "stdout",
     "output_type": "stream",
     "text": [
      "Setelah mengurutkan secara descending: [90.75, 78, 66, 11]\n"
     ]
    }
   ],
   "source": [
    "def sort_descending(input_list):\n",
    "    \"\"\"5. Urutkan elemen pada list secara descending\"\"\"\n",
    "    input_list.sort(reverse=True)\n",
    "    print(\"Setelah mengurutkan secara descending:\", input_list)\n",
    "\n",
    "sort_descending(my_list)"
   ]
  },
  {
   "cell_type": "markdown",
   "metadata": {},
   "source": [
    "# Tugas 2\n"
   ]
  },
  {
   "cell_type": "code",
   "execution_count": 24,
   "metadata": {},
   "outputs": [
    {
     "name": "stdout",
     "output_type": "stream",
     "text": [
      "Entri yang tersisa: {'visualisasi': 85, 'data analyst': 78, 'data warehouse': 90, 'basis data': 88, 'aik': 75, 'sistem informasi': 82, 'AI': 95}\n"
     ]
    }
   ],
   "source": [
    "# Membuat tuple berisi dictionary dengan 10 pasangan key-value\n",
    "courses = (\n",
    "    {\"visualisasi\": 85, \"data analyst\": 78, \"data science\": None, \"data warehouse\": 90, \"basis data\": 88,\n",
    "     \"english\": None, \"aik\": 75, \"sistem informasi\": 82, \"AI\": 95, \"big data\": None}\n",
    ")\n",
    "\n",
    "# 1. Hapus entri yang tidak lengkap atau memiliki nilai kosong\n",
    "clean_courses = {k: v for k, v in courses.items() if v is not None}\n",
    "print(f\"Entri yang tersisa: {clean_courses}\")"
   ]
  },
  {
   "cell_type": "code",
   "execution_count": 25,
   "metadata": {},
   "outputs": [
    {
     "name": "stdout",
     "output_type": "stream",
     "text": [
      "Jumlah entri yang tersisa: 7\n"
     ]
    }
   ],
   "source": [
    "# 2. Hitung jumlah entri yang tersisa setelah penghapusan\n",
    "total_courses = len(clean_courses)\n",
    "print(f\"Jumlah entri yang tersisa: {total_courses}\")\n"
   ]
  },
  {
   "cell_type": "code",
   "execution_count": 26,
   "metadata": {},
   "outputs": [
    {
     "name": "stdout",
     "output_type": "stream",
     "text": [
      "Entri yang diurutkan: {'aik': 75, 'data analyst': 78, 'sistem informasi': 82, 'visualisasi': 85, 'basis data': 88, 'data warehouse': 90, 'AI': 95}\n"
     ]
    }
   ],
   "source": [
    "# 3. Urutkan pasangan key-value berdasarkan nilai secara ascending\n",
    "sorted_courses = dict(sorted(clean_courses.items(), key=lambda item: item[1]))\n",
    "print(f\"Entri yang diurutkan: {sorted_courses}\")"
   ]
  },
  {
   "cell_type": "code",
   "execution_count": 27,
   "metadata": {},
   "outputs": [
    {
     "name": "stdout",
     "output_type": "stream",
     "text": [
      "Mata kuliah dengan nilai tertinggi: AI (95)\n"
     ]
    }
   ],
   "source": [
    "# 4. Carilah mata kuliah dengan nilai tertinggi\n",
    "top_course = max(clean_courses, key=clean_courses.get)\n",
    "print(f\"Mata kuliah dengan nilai tertinggi: {top_course} ({clean_courses[top_course]})\")"
   ]
  },
  {
   "cell_type": "code",
   "execution_count": 28,
   "metadata": {},
   "outputs": [
    {
     "name": "stdout",
     "output_type": "stream",
     "text": [
      "Rata-rata nilai mata kuliah: 84.71\n"
     ]
    }
   ],
   "source": [
    "# 5. Hitung rata-rata semua nilai mata kuliah\n",
    "average_score = sum(clean_courses.values()) / len(clean_courses)\n",
    "print(f\"Rata-rata nilai mata kuliah: {average_score:.2f}\")"
   ]
  },
  {
   "cell_type": "markdown",
   "metadata": {},
   "source": [
    "# Tugas 3"
   ]
  },
  {
   "cell_type": "code",
   "execution_count": 29,
   "metadata": {},
   "outputs": [
    {
     "name": "stdout",
     "output_type": "stream",
     "text": [
      "Ringkasan Statistik Deskriptif:\n",
      "             Harga      Stock\n",
      "count   10.000000   10.00000\n",
      "mean    87.000000  184.50000\n",
      "std     33.681515   55.70009\n",
      "min     50.000000  100.00000\n",
      "25%     60.000000  163.75000\n",
      "50%     80.000000  180.00000\n",
      "75%    112.500000  200.00000\n",
      "max    150.000000  300.00000\n",
      "\n",
      "3 Brand dengan Penghasilan Terbesar:\n",
      "        Brand    Cabang  Harga  Stock     Status  Revenue\n",
      "0    Avoskin  Surabaya    150    175       Sold    26250\n",
      "3     Wardah   Bandung     85    300       Sold    25500\n",
      "5  Somethinc   Bandung    120    200  Available    24000\n",
      "\n",
      "Pengelompokan Brand berdasarkan Harga:\n",
      " Harga\n",
      "50      [Azarine, Madame Gie]\n",
      "55                    [Y.O.U]\n",
      "75               [G2G, Emina]\n",
      "85                   [Wardah]\n",
      "90                   [Lacoco]\n",
      "120    [Skintific, Somethinc]\n",
      "150                 [Avoskin]\n",
      "Name: Brand, dtype: object\n",
      "\n",
      "DataFrame dengan Kategori Harga:\n",
      "         Brand         Cabang  Harga  Stock     Status  Revenue Kategori Harga\n",
      "0     Avoskin       Surabaya    150    175       Sold    26250          Mahal\n",
      "1         G2G  Jakarta Pusat     75    160  Available    12000         Sedang\n",
      "2   Skintific        Bandung    120    120  Available    14400          Mahal\n",
      "3      Wardah        Bandung     85    300       Sold    25500         Sedang\n",
      "4       Emina        Jakarta     75    230  Available    17250         Sedang\n",
      "5   Somethinc        Bandung    120    200  Available    24000          Mahal\n",
      "6     Azarine       Surabaya     50    180  Available     9000          Murah\n",
      "7      Lacoco        Bandung     90    100       Sold     9000         Sedang\n",
      "8       Y.O.U  Jakarta Pusat     55    180  Available     9900          Murah\n",
      "9  Madame Gie       Surabaya     50    200       Sold    10000          Murah\n"
     ]
    }
   ],
   "source": [
    "import pandas as pd\n",
    "\n",
    "\n",
    "data = {\n",
    "    'Brand': ['Avoskin', 'G2G', 'Skintific', 'Wardah', 'Emina', 'Somethinc', 'Azarine', 'Lacoco', 'Y.O.U', 'Madame Gie'],\n",
    "    'Cabang': ['Surabaya', 'Jakarta Pusat', 'Bandung', 'Bandung', 'Jakarta', 'Bandung', 'Surabaya', 'Bandung', 'Jakarta Pusat', 'Surabaya'],\n",
    "    'Harga': [150, 75, 120, 85, 75, 120, 50, 90, 55, 50],\n",
    "    'Stock': [175, 160, 120, 300, 230, 200, 180, 100, 180, 200],\n",
    "    'Status': ['Sold', 'Available', 'Available', 'Sold', 'Available', 'Available', 'Available', 'Sold', 'Available', 'Sold']\n",
    "}\n",
    "\n",
    "\n",
    "df = pd.DataFrame(data)\n",
    "\n",
    "# 1. Ringkasan statistik deskriptif\n",
    "stats_summary = df[['Harga', 'Stock']].describe()\n",
    "\n",
    "# 2. Menentukan 3 brand dengan penghasilan terbesar (Harga x Stock)\n",
    "df['Revenue'] = df['Harga'] * df['Stock']\n",
    "top_3_revenue = df.sort_values(by='Revenue', ascending=False).head(3)\n",
    "\n",
    "# 3. Mengelompokkan brand dengan harga yang sama\n",
    "grouped_by_price = df.groupby('Harga')['Brand'].apply(list)\n",
    "\n",
    "# 4. Kategorisasi harga berdasarkan kuartil\n",
    "q1 = df['Harga'].quantile(0.25)\n",
    "q3 = df['Harga'].quantile(0.75)\n",
    "\n",
    "def categorize_price(harga):\n",
    "    if harga < q1:\n",
    "        return 'Murah'\n",
    "    elif harga > q3:\n",
    "        return 'Mahal'\n",
    "    else:\n",
    "        return 'Sedang'\n",
    "\n",
    "df['Kategori Harga'] = df['Harga'].apply(categorize_price)\n",
    "\n",
    "# Output hasil\n",
    "print(\"Ringkasan Statistik Deskriptif:\\n\", stats_summary)\n",
    "print(\"\\n3 Brand dengan Penghasilan Terbesar:\\n\", top_3_revenue)\n",
    "print(\"\\nPengelompokan Brand berdasarkan Harga:\\n\", grouped_by_price)\n",
    "print(\"\\nDataFrame dengan Kategori Harga:\\n\", df)\n"
   ]
  }
 ],
 "metadata": {
  "kernelspec": {
   "display_name": ".venv",
   "language": "python",
   "name": "python3"
  },
  "language_info": {
   "codemirror_mode": {
    "name": "ipython",
    "version": 3
   },
   "file_extension": ".py",
   "mimetype": "text/x-python",
   "name": "python",
   "nbconvert_exporter": "python",
   "pygments_lexer": "ipython3",
   "version": "3.12.0"
  }
 },
 "nbformat": 4,
 "nbformat_minor": 2
}
